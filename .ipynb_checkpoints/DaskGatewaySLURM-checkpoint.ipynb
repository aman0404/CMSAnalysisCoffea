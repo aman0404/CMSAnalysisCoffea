{
 "cells": [
  {
   "cell_type": "code",
   "execution_count": 1,
   "id": "275494e4-3a0f-4d26-aafe-8abd771df5b4",
   "metadata": {},
   "outputs": [],
   "source": [
    "import os\n",
    "from dask_gateway import Gateway\n",
    "# gateway = Gateway()\n",
    "gateway = Gateway(\n",
    "    \"http://dask-gateway-k8s.geddes.rcac.purdue.edu/\",\n",
    "    proxy_address=\"traefik-dask-gateway-k8s.cms.geddes.rcac.purdue.edu:8786\",\n",
    ")"
   ]
  },
  {
   "cell_type": "code",
   "execution_count": 2,
   "id": "c1a51702-2fab-4bd6-a4f0-22cf289d5948",
   "metadata": {
    "editable": true,
    "slideshow": {
     "slide_type": ""
    },
    "tags": []
   },
   "outputs": [
    {
     "data": {
      "application/vnd.jupyter.widget-view+json": {
       "model_id": "862f1063c8c746d2b6a72c933092246c",
       "version_major": 2,
       "version_minor": 0
      },
      "text/plain": [
       "VBox(children=(HTML(value='<h2>GatewayCluster</h2>'), HBox(children=(HTML(value='\\n<div>\\n<style scoped>\\n    …"
      ]
     },
     "metadata": {},
     "output_type": "display_data"
    }
   ],
   "source": [
    "os.environ[\"X509_USER_PROXY\"] = \"/depot/cms/users/yun79/x509up_u383571\"\n",
    "os.environ[\"PYTHONPATH\"] += \":/work/users/yun79/valerie/fork/copperheadV2\"\n",
    "os.environ['XRD_REQUESTTIMEOUT'] = \"2400\"\n",
    "cluster = gateway.new_cluster(\n",
    "    # conda_env = \"/depot/cms/kernels/coffea2024\",\n",
    "    # conda_env = \"/depot/cms/kernels/root632\",\n",
    "    conda_env = \"/depot/cms/users/yun79/conda_envs/coffea_prototype\",\n",
    "    worker_cores = 1, #1\n",
    "    worker_memory = 5, #6\n",
    "    env = dict(os.environ),\n",
    ")\n",
    "\n",
    "# cluster.adapt(100) \n",
    "cluster.adapt(minimum=25, maximum=100)\n",
    "cluster"
   ]
  },
  {
   "cell_type": "code",
   "execution_count": 2,
   "id": "2ff0a848-13af-4176-8b20-fd6c4e53c3f3",
   "metadata": {},
   "outputs": [
    {
     "data": {
      "text/plain": [
       "'/depot/cms/private/users/yun79/valerie/fork/copperheadV2'"
      ]
     },
     "execution_count": 2,
     "metadata": {},
     "output_type": "execute_result"
    }
   ],
   "source": [
    "os.environ['PWD']"
   ]
  },
  {
   "cell_type": "code",
   "execution_count": 3,
   "id": "7509afd5-e613-4dad-99f0-ebcda0453090",
   "metadata": {},
   "outputs": [],
   "source": [
    "\"\"\"\n",
    "To shutdown the cluster, run this cell\n",
    "Equivalently, you can also do \"squeue -u <username>\" \n",
    "if this is the only slurm job you're doing\n",
    "\"\"\"\n",
    "\n",
    "for cluster_info in gateway.list_clusters():\n",
    "    gateway.connect(cluster_info.name).shutdown()"
   ]
  },
  {
   "cell_type": "code",
   "execution_count": 14,
   "id": "61b1a67a-53d2-4837-b5c4-2fd124dd128f",
   "metadata": {},
   "outputs": [],
   "source": [
    "options = gateway.cluster_options()  "
   ]
  },
  {
   "cell_type": "code",
   "execution_count": null,
   "id": "add5c117-7590-4546-8fe6-239cab13dd36",
   "metadata": {},
   "outputs": [],
   "source": [
    "# options.worker_cores\n",
    "options.fields"
   ]
  },
  {
   "cell_type": "code",
   "execution_count": 9,
   "id": "e627d976-e8ae-4d2f-974a-757ea14acf87",
   "metadata": {},
   "outputs": [],
   "source": [
    "! squeue -u yun79"
   ]
  },
  {
   "cell_type": "code",
   "execution_count": 7,
   "id": "3d015374-9431-4718-9eb3-a37a00bb367f",
   "metadata": {},
   "outputs": [
    {
     "data": {
      "text/plain": [
       "':/depot/cms/purdue-af/lhapdf/lib/python3.10/site-packages'"
      ]
     },
     "execution_count": 7,
     "metadata": {},
     "output_type": "execute_result"
    }
   ],
   "source": []
  },
  {
   "cell_type": "code",
   "execution_count": null,
   "id": "bf00be45-2c6c-4572-8223-3fb8b7d6da5b",
   "metadata": {},
   "outputs": [],
   "source": []
  }
 ],
 "metadata": {
  "kernelspec": {
   "display_name": "Python [conda env:coffea_prototype]",
   "language": "python",
   "name": "conda-env-coffea_prototype-py"
  },
  "language_info": {
   "codemirror_mode": {
    "name": "ipython",
    "version": 3
   },
   "file_extension": ".py",
   "mimetype": "text/x-python",
   "name": "python",
   "nbconvert_exporter": "python",
   "pygments_lexer": "ipython3",
   "version": "3.12.5"
  }
 },
 "nbformat": 4,
 "nbformat_minor": 5
}
